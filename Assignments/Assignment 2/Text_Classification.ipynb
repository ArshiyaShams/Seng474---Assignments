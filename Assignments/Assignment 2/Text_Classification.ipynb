{
 "cells": [
  {
   "cell_type": "code",
   "execution_count": 1,
   "metadata": {
    "executionInfo": {
     "elapsed": 3204,
     "status": "ok",
     "timestamp": 1686270550187,
     "user": {
      "displayName": "Alex Thomo",
      "userId": "08504196803322236588"
     },
     "user_tz": 420
    },
    "id": "mcUDHs_wjnJa"
   },
   "outputs": [],
   "source": [
    "import pandas as pd\n",
    "import numpy as np\n",
    "import matplotlib.pyplot as plt\n",
    "import seaborn as sns\n",
    "import re\n",
    "import nltk\n",
    "from nltk.corpus import stopwords\n",
    "from nltk.stem import WordNetLemmatizer\n",
    "from nltk.tokenize import word_tokenize\n",
    "from sklearn.feature_extraction.text import CountVectorizer\n",
    "from sklearn.feature_extraction.text import TfidfVectorizer\n",
    "from sklearn.model_selection import cross_val_score\n",
    "\n",
    "# suppress warnings\n",
    "import warnings\n",
    "warnings.filterwarnings('ignore')\n"
   ]
  },
  {
   "cell_type": "code",
   "execution_count": 8,
   "metadata": {
    "colab": {
     "base_uri": "https://localhost:8080/",
     "height": 250
    },
    "executionInfo": {
     "elapsed": 3866,
     "status": "ok",
     "timestamp": 1686270597754,
     "user": {
      "displayName": "Alex Thomo",
      "userId": "08504196803322236588"
     },
     "user_tz": 420
    },
    "id": "XiCZNEvBjnJi",
    "outputId": "caaa09b0-9d75-41bc-c60b-4c5df55a10e6"
   },
   "outputs": [
    {
     "data": {
      "text/html": [
       "<div>\n",
       "<style scoped>\n",
       "    .dataframe tbody tr th:only-of-type {\n",
       "        vertical-align: middle;\n",
       "    }\n",
       "\n",
       "    .dataframe tbody tr th {\n",
       "        vertical-align: top;\n",
       "    }\n",
       "\n",
       "    .dataframe thead th {\n",
       "        text-align: right;\n",
       "    }\n",
       "</style>\n",
       "<table border=\"1\" class=\"dataframe\">\n",
       "  <thead>\n",
       "    <tr style=\"text-align: right;\">\n",
       "      <th></th>\n",
       "      <th>id</th>\n",
       "      <th>keyword</th>\n",
       "      <th>location</th>\n",
       "      <th>text</th>\n",
       "      <th>target</th>\n",
       "    </tr>\n",
       "  </thead>\n",
       "  <tbody>\n",
       "    <tr>\n",
       "      <th>0</th>\n",
       "      <td>1</td>\n",
       "      <td>NaN</td>\n",
       "      <td>NaN</td>\n",
       "      <td>Our Deeds are the Reason of this #earthquake M...</td>\n",
       "      <td>1</td>\n",
       "    </tr>\n",
       "    <tr>\n",
       "      <th>1</th>\n",
       "      <td>4</td>\n",
       "      <td>NaN</td>\n",
       "      <td>NaN</td>\n",
       "      <td>Forest fire near La Ronge Sask. Canada</td>\n",
       "      <td>1</td>\n",
       "    </tr>\n",
       "    <tr>\n",
       "      <th>2</th>\n",
       "      <td>5</td>\n",
       "      <td>NaN</td>\n",
       "      <td>NaN</td>\n",
       "      <td>All residents asked to 'shelter in place' are ...</td>\n",
       "      <td>1</td>\n",
       "    </tr>\n",
       "    <tr>\n",
       "      <th>3</th>\n",
       "      <td>6</td>\n",
       "      <td>NaN</td>\n",
       "      <td>NaN</td>\n",
       "      <td>13,000 people receive #wildfires evacuation or...</td>\n",
       "      <td>1</td>\n",
       "    </tr>\n",
       "    <tr>\n",
       "      <th>4</th>\n",
       "      <td>7</td>\n",
       "      <td>NaN</td>\n",
       "      <td>NaN</td>\n",
       "      <td>Just got sent this photo from Ruby #Alaska as ...</td>\n",
       "      <td>1</td>\n",
       "    </tr>\n",
       "  </tbody>\n",
       "</table>\n",
       "</div>"
      ],
      "text/plain": [
       "   id keyword location                                               text  \\\n",
       "0   1     NaN      NaN  Our Deeds are the Reason of this #earthquake M...   \n",
       "1   4     NaN      NaN             Forest fire near La Ronge Sask. Canada   \n",
       "2   5     NaN      NaN  All residents asked to 'shelter in place' are ...   \n",
       "3   6     NaN      NaN  13,000 people receive #wildfires evacuation or...   \n",
       "4   7     NaN      NaN  Just got sent this photo from Ruby #Alaska as ...   \n",
       "\n",
       "   target  \n",
       "0       1  \n",
       "1       1  \n",
       "2       1  \n",
       "3       1  \n",
       "4       1  "
      ]
     },
     "execution_count": 8,
     "metadata": {},
     "output_type": "execute_result"
    }
   ],
   "source": [
    "# read the data\n",
    "df = pd.read_csv('https://raw.githubusercontent.com/nikjohn7/Disaster-Tweets-Kaggle/main/data/train.csv')\n",
    "df.head()"
   ]
  },
  {
   "cell_type": "code",
   "execution_count": 9,
   "metadata": {
    "colab": {
     "base_uri": "https://localhost:8080/"
    },
    "executionInfo": {
     "elapsed": 11,
     "status": "ok",
     "timestamp": 1686270606497,
     "user": {
      "displayName": "Alex Thomo",
      "userId": "08504196803322236588"
     },
     "user_tz": 420
    },
    "id": "xyuDgpX5jnJm",
    "outputId": "adeb073a-dad9-462e-ea88-4e128637751d"
   },
   "outputs": [
    {
     "data": {
      "text/plain": [
       "(7613, 5)"
      ]
     },
     "execution_count": 9,
     "metadata": {},
     "output_type": "execute_result"
    }
   ],
   "source": [
    "# how many rows and columns are in the data set?\n",
    "df.shape"
   ]
  },
  {
   "cell_type": "code",
   "execution_count": 11,
   "metadata": {
    "colab": {
     "base_uri": "https://localhost:8080/"
    },
    "executionInfo": {
     "elapsed": 213,
     "status": "ok",
     "timestamp": 1686270617051,
     "user": {
      "displayName": "Alex Thomo",
      "userId": "08504196803322236588"
     },
     "user_tz": 420
    },
    "id": "u2oSwG2ijnJo",
    "outputId": "30b3bf8a-0d7c-4a40-fb37-20f0d9104976"
   },
   "outputs": [
    {
     "data": {
      "text/plain": [
       "(3271, 5)"
      ]
     },
     "execution_count": 11,
     "metadata": {},
     "output_type": "execute_result"
    }
   ],
   "source": [
    "# how many tweets about disasters\n",
    "df[df['target'] == 1].shape"
   ]
  },
  {
   "cell_type": "code",
   "execution_count": 12,
   "metadata": {
    "colab": {
     "base_uri": "https://localhost:8080/"
    },
    "executionInfo": {
     "elapsed": 266,
     "status": "ok",
     "timestamp": 1686270622781,
     "user": {
      "displayName": "Alex Thomo",
      "userId": "08504196803322236588"
     },
     "user_tz": 420
    },
    "id": "94S158-ujnJp",
    "outputId": "973f735a-779c-418b-8149-c117e116925d"
   },
   "outputs": [
    {
     "data": {
      "text/plain": [
       "(4342, 5)"
      ]
     },
     "execution_count": 12,
     "metadata": {},
     "output_type": "execute_result"
    }
   ],
   "source": [
    "# how many tweets not about disasters\n",
    "df[df['target'] == 0].shape"
   ]
  },
  {
   "cell_type": "code",
   "execution_count": 14,
   "metadata": {
    "colab": {
     "base_uri": "https://localhost:8080/"
    },
    "executionInfo": {
     "elapsed": 206,
     "status": "ok",
     "timestamp": 1686270709316,
     "user": {
      "displayName": "Alex Thomo",
      "userId": "08504196803322236588"
     },
     "user_tz": 420
    },
    "id": "nryA0ie5jnJs",
    "outputId": "a1a370ff-b62f-4447-e8d2-3fc532ce8c22"
   },
   "outputs": [],
   "source": [
    "import nltk\n",
    "stopwords = set(nltk.corpus.stopwords.words('english'))\n",
    "\n",
    "include_stopwords = {'disaster', 'natural'}\n",
    "stopwords |= include_stopwords"
   ]
  },
  {
   "cell_type": "code",
   "execution_count": 18,
   "metadata": {
    "colab": {
     "base_uri": "https://localhost:8080/"
    },
    "executionInfo": {
     "elapsed": 453,
     "status": "ok",
     "timestamp": 1686270868485,
     "user": {
      "displayName": "Alex Thomo",
      "userId": "08504196803322236588"
     },
     "user_tz": 420
    },
    "id": "8jB0xwj_jnJt",
    "outputId": "a2ef7a57-d78b-46c1-cb28-4452b3e7ad4e"
   },
   "outputs": [],
   "source": [
    "# build a text processing and classifier pipeline\n",
    "# to predict the country (USA or Canada) of a speech\n",
    "\n",
    "from sklearn.feature_extraction.text import TfidfVectorizer\n",
    "from sklearn import svm\n",
    "from sklearn.model_selection import train_test_split\n",
    "from sklearn.pipeline import Pipeline\n",
    "from sklearn.metrics import classification_report\n",
    "\n",
    "# Split the dataset into training and test sets\n",
    "X_train, X_test, y_train, y_test = train_test_split(df['text'], df['target'], test_size=0.2)\n",
    "\n",
    "# Create a pipeline that first transforms the text data into TF-IDF vectors, then applies SVM\n",
    "text_clf = Pipeline([\n",
    "    ('tfidf', TfidfVectorizer(stop_words=list(stopwords))),\n",
    "    ('clf', svm.SVC()),\n",
    "])\n",
    "\n",
    "# Train the classifier\n",
    "text_clf.fit(X_train, y_train)\n",
    "\n",
    "# Predict the test set results\n",
    "y_pred = text_clf.predict(X_test)\n",
    "\n",
    "# Print the classification report\n",
    "print(classification_report(y_test, y_pred, target_names=[]))\n"
   ]
  },
  {
   "cell_type": "code",
   "execution_count": 16,
   "metadata": {
    "executionInfo": {
     "elapsed": 2119,
     "status": "ok",
     "timestamp": 1686270971052,
     "user": {
      "displayName": "Alex Thomo",
      "userId": "08504196803322236588"
     },
     "user_tz": 420
    },
    "id": "htvOCTKkjnJw"
   },
   "outputs": [],
   "source": [
    "# This script creates a new column 'sentiment' in the dataframe, \n",
    "# which contains the sentiment score of the text. \n",
    "# The sentiment score is a float within the range [-1.0, 1.0], \n",
    "# where -1.0 denotes a very negative sentiment, \n",
    "# 1.0 denotes a very positive sentiment, \n",
    "# and values around 0 denote a neutral sentiment.\n",
    "\n",
    "from textblob import TextBlob\n",
    "\n",
    "# Define a function to apply sentiment analysis to a text\n",
    "def get_sentiment(text):\n",
    "    blob = TextBlob(text)\n",
    "    return blob.sentiment.polarity  # returns a value between -1 and 1\n",
    "\n",
    "# Create a new column 'sentiment' in the DataFrame\n",
    "df2['sentiment'] = df2['text'].apply(get_sentiment)\n",
    "\n",
    "# Display the DataFrame\n",
    "# df2"
   ]
  },
  {
   "cell_type": "code",
   "execution_count": 17,
   "metadata": {
    "colab": {
     "base_uri": "https://localhost:8080/"
    },
    "executionInfo": {
     "elapsed": 209,
     "status": "ok",
     "timestamp": 1686270975562,
     "user": {
      "displayName": "Alex Thomo",
      "userId": "08504196803322236588"
     },
     "user_tz": 420
    },
    "id": "Rkq_X6gDjnJz",
    "outputId": "81d72884-1a98-4df9-a99d-e41ed14eb116"
   },
   "outputs": [
    {
     "data": {
      "text/plain": [
       "country\n",
       "CAN    0.112540\n",
       "USA    0.110635\n",
       "Name: sentiment, dtype: float64"
      ]
     },
     "execution_count": 17,
     "metadata": {},
     "output_type": "execute_result"
    }
   ],
   "source": [
    "# find average sentiment for each country in df2\n",
    "df2.groupby('country')['sentiment'].mean()"
   ]
  },
  {
   "cell_type": "code",
   "execution_count": 18,
   "metadata": {
    "colab": {
     "base_uri": "https://localhost:8080/"
    },
    "executionInfo": {
     "elapsed": 245,
     "status": "ok",
     "timestamp": 1686271000768,
     "user": {
      "displayName": "Alex Thomo",
      "userId": "08504196803322236588"
     },
     "user_tz": 420
    },
    "id": "3tqgyAaijnJ0",
    "outputId": "70150a23-bdce-454a-a747-c2ef7e62e942"
   },
   "outputs": [
    {
     "data": {
      "text/plain": [
       "speaker\n",
       "Condoleezza Rice    0.164408\n",
       "Lawrence Cannon     0.152515\n",
       "Leonard Edwards     0.145419\n",
       "Mr. MACGUIGAN       0.144525\n",
       "Jean Chrétien       0.142099\n",
       "Name: sentiment, dtype: float64"
      ]
     },
     "execution_count": 18,
     "metadata": {},
     "output_type": "execute_result"
    }
   ],
   "source": [
    "# find average sentiment for each speaker in df2\n",
    "# order the results from most positive to most negative\n",
    "\n",
    "df2.groupby('speaker')['sentiment'].mean().sort_values(ascending=False).head(5)"
   ]
  },
  {
   "cell_type": "code",
   "execution_count": 19,
   "metadata": {
    "colab": {
     "base_uri": "https://localhost:8080/"
    },
    "executionInfo": {
     "elapsed": 201,
     "status": "ok",
     "timestamp": 1686271030861,
     "user": {
      "displayName": "Alex Thomo",
      "userId": "08504196803322236588"
     },
     "user_tz": 420
    },
    "id": "i3cC9s34jnJ1",
    "outputId": "b42afcba-49e6-4c1f-f147-335bea266080"
   },
   "outputs": [
    {
     "data": {
      "text/plain": [
       "year\n",
       "2008    0.143186\n",
       "1989    0.140575\n",
       "1991    0.139629\n",
       "2003    0.137859\n",
       "1981    0.135435\n",
       "1971    0.129006\n",
       "1994    0.128335\n",
       "1993    0.126281\n",
       "2006    0.125876\n",
       "1995    0.125568\n",
       "1973    0.125375\n",
       "1997    0.124643\n",
       "2015    0.123486\n",
       "2010    0.122846\n",
       "2005    0.121935\n",
       "1987    0.121119\n",
       "2014    0.119271\n",
       "1998    0.117136\n",
       "2009    0.116599\n",
       "2007    0.116335\n",
       "1970    0.114943\n",
       "1983    0.114040\n",
       "1978    0.113078\n",
       "1976    0.111378\n",
       "1977    0.111315\n",
       "1984    0.110240\n",
       "1996    0.109673\n",
       "1988    0.109235\n",
       "1992    0.107583\n",
       "2004    0.106383\n",
       "1990    0.104914\n",
       "1985    0.103662\n",
       "1972    0.100319\n",
       "2001    0.099462\n",
       "2011    0.099054\n",
       "1974    0.098554\n",
       "1980    0.097081\n",
       "2000    0.095660\n",
       "1979    0.095185\n",
       "1982    0.093348\n",
       "1999    0.093205\n",
       "1975    0.090080\n",
       "2002    0.084102\n",
       "1986    0.084058\n",
       "2012    0.074286\n",
       "2013    0.071692\n",
       "Name: sentiment, dtype: float64"
      ]
     },
     "execution_count": 19,
     "metadata": {},
     "output_type": "execute_result"
    }
   ],
   "source": [
    "df2.groupby('year')['sentiment'].mean().sort_values(ascending=False)"
   ]
  }
 ],
 "metadata": {
  "colab": {
   "provenance": []
  },
  "kernelspec": {
   "display_name": "Python 3 (ipykernel)",
   "language": "python",
   "name": "python3"
  },
  "language_info": {
   "codemirror_mode": {
    "name": "ipython",
    "version": 3
   },
   "file_extension": ".py",
   "mimetype": "text/x-python",
   "name": "python",
   "nbconvert_exporter": "python",
   "pygments_lexer": "ipython3",
   "version": "3.11.5"
  }
 },
 "nbformat": 4,
 "nbformat_minor": 1
}
